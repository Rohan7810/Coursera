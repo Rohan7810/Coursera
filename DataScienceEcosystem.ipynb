{
  "nbformat": 4,
  "nbformat_minor": 0,
  "metadata": {
    "colab": {
      "provenance": [],
      "authorship_tag": "ABX9TyNp+sauzOvl2zp9nZbt8ywr",
      "include_colab_link": true
    },
    "kernelspec": {
      "name": "python3",
      "display_name": "Python 3"
    },
    "language_info": {
      "name": "python"
    }
  },
  "cells": [
    {
      "cell_type": "markdown",
      "metadata": {
        "id": "view-in-github",
        "colab_type": "text"
      },
      "source": [
        "<a href=\"https://colab.research.google.com/github/Rohan7810/Coursera/blob/main/DataScienceEcosystem.ipynb\" target=\"_parent\"><img src=\"https://colab.research.google.com/assets/colab-badge.svg\" alt=\"Open In Colab\"/></a>"
      ]
    },
    {
      "cell_type": "markdown",
      "source": [
        "# Data science Tools and Ecosystem"
      ],
      "metadata": {
        "id": "-IfMo7wDuCdx"
      }
    },
    {
      "cell_type": "markdown",
      "source": [
        "##Introduction  EX-3"
      ],
      "metadata": {
        "id": "XwpTRe-FvrmF"
      }
    },
    {
      "cell_type": "code",
      "source": [
        "In this notebook, Data Science Toold and Ecosystem are summarized."
      ],
      "metadata": {
        "id": "nqOh8oQsubSr"
      },
      "execution_count": null,
      "outputs": []
    },
    {
      "cell_type": "markdown",
      "source": [
        " #Data Science Languages EX-4\n",
        "\n"
      ],
      "metadata": {
        "id": "_wDx_92JvnfD"
      }
    },
    {
      "cell_type": "code",
      "source": [
        "\n",
        "Some of the popular languages that Data Scientists use are:\n",
        "\n",
        "1. Python\n",
        "2. R\n",
        "3. Julia"
      ],
      "metadata": {
        "id": "zG3GG2GevNyo"
      },
      "execution_count": null,
      "outputs": []
    },
    {
      "cell_type": "markdown",
      "source": [
        "## Data Science Libraries EX-5"
      ],
      "metadata": {
        "id": "JjccB7IrvlgU"
      }
    },
    {
      "cell_type": "code",
      "source": [
        "\n",
        "Some of the commonly used libraries used by Data Scientists include:\n",
        "\n",
        "1. NumPy\n",
        "2. Pandas\n",
        "3. Matplotlib\n",
        "4. Seaborn\n",
        "5. Scikit-learn"
      ],
      "metadata": {
        "id": "-Hhxy27Zva2Z"
      },
      "execution_count": null,
      "outputs": []
    },
    {
      "cell_type": "markdown",
      "source": [
        "## EX-6"
      ],
      "metadata": {
        "id": "Hm-RDnYZwCsg"
      }
    },
    {
      "cell_type": "code",
      "source": [
        "| Data Science Tools |\n",
        "| ------------------ |\n",
        "| Jupyter Notebook   |\n",
        "| RStudio            |\n",
        "| Visual Studio Code |\n"
      ],
      "metadata": {
        "id": "RCAxKpA3vxIF"
      },
      "execution_count": null,
      "outputs": []
    },
    {
      "cell_type": "markdown",
      "source": [
        "### Arithmetic Expression Examples EX-7"
      ],
      "metadata": {
        "id": "Wgo1ALY_wQJt"
      }
    },
    {
      "cell_type": "code",
      "source": [
        "Below are a few examples of evaluating arithmetic expressions in Python"
      ],
      "metadata": {
        "id": "p_loQGGYvxLf"
      },
      "execution_count": null,
      "outputs": []
    },
    {
      "cell_type": "markdown",
      "source": [
        "### This is a simple arithmetic expression to multiply then add integers.EX-8"
      ],
      "metadata": {
        "id": "g-NBR8ANwojM"
      }
    },
    {
      "cell_type": "code",
      "source": [
        "# This is a simple arithmetic expression to multiply then add integers.\n",
        "result = (3 * 4) + 5\n",
        "print(result)\n"
      ],
      "metadata": {
        "colab": {
          "base_uri": "https://localhost:8080/"
        },
        "id": "XMWGScIUwJaY",
        "outputId": "b54d4466-76bc-4ca7-e649-dd59670272b1"
      },
      "execution_count": null,
      "outputs": [
        {
          "output_type": "stream",
          "name": "stdout",
          "text": [
            "17\n"
          ]
        }
      ]
    },
    {
      "cell_type": "markdown",
      "source": [
        "### This will convert 200 minutes to hours by dividing by 60. EX-9"
      ],
      "metadata": {
        "id": "Fbfex8yCwxgu"
      }
    },
    {
      "cell_type": "code",
      "source": [
        "# This will convert 200 minutes to hours by dividing by 60.\n",
        "minutes = 200\n",
        "hours = minutes / 60\n",
        "print(hours)\n"
      ],
      "metadata": {
        "colab": {
          "base_uri": "https://localhost:8080/"
        },
        "id": "igR8lwkSvxOz",
        "outputId": "78f4d877-7552-443f-efd8-3ea1e4cf84a3"
      },
      "execution_count": null,
      "outputs": [
        {
          "output_type": "stream",
          "name": "stdout",
          "text": [
            "3.3333333333333335\n"
          ]
        }
      ]
    },
    {
      "cell_type": "markdown",
      "source": [
        "## Objectives EX-10"
      ],
      "metadata": {
        "id": "OUw1UafsxCzH"
      }
    },
    {
      "cell_type": "code",
      "source": [
        "## Objectives\n",
        "\n",
        "**Objectives:**\n",
        "\n",
        "- List popular languages for Data Science.\n",
        "- Introduce common Data Science libraries.\n",
        "- Provide an overview of Data Science tools.\n",
        "- Demonstrate arithmetic expression examples.\n",
        "- Convert minutes to hours using Python.\n"
      ],
      "metadata": {
        "id": "zDW64WIJxAcu"
      },
      "execution_count": null,
      "outputs": []
    },
    {
      "cell_type": "markdown",
      "source": [
        "## Author EX-11"
      ],
      "metadata": {
        "id": "1aKw0tRuxg28"
      }
    },
    {
      "cell_type": "code",
      "source": [
        "## Author\n",
        "\n",
        "Author: [Rohan]"
      ],
      "metadata": {
        "id": "Crfbey34xAfV"
      },
      "execution_count": null,
      "outputs": []
    },
    {
      "cell_type": "code",
      "source": [],
      "metadata": {
        "id": "GVHPjLwqxAiO"
      },
      "execution_count": null,
      "outputs": []
    }
  ]
}